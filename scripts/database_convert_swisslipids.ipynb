{
 "cells": [
  {
   "cell_type": "code",
   "execution_count": null,
   "metadata": {},
   "outputs": [],
   "source": [
    "import os\n",
    "import json\n",
    "import argparse\n",
    "import pandas as pd\n",
    "import requests\n",
    "import multiprocessing as mp\n",
    "\n",
    "from pygoslin.parser.Parser import LipidParser\n",
    "from pygoslin.domain.LipidLevel import LipidLevel"
   ]
  },
  {
   "cell_type": "code",
   "execution_count": null,
   "metadata": {},
   "outputs": [],
   "source": [
    "def convert_swiss_lipids_lipid_name(name: tuple[str, str]) -> str | None:\n",
    "    lipid_parser = LipidParser()\n",
    "    try:\n",
    "        lipid = lipid_parser.parse(name[0])\n",
    "        return lipid.get_lipid_string()\n",
    "    except Exception as _:\n",
    "        try:\n",
    "            lipid = lipid_parser.parse(name[1])\n",
    "            return lipid.get_lipid_string()\n",
    "        except Exception as _:\n",
    "            return None\n",
    "\n",
    "\n",
    "def parse_swiss_lipids_database(file_path) -> dict:\n",
    "    swiss_lipids_db = pd.read_csv(file_path, delimiter='\\t')\n",
    "    swiss_lipids_db.rename(columns={\n",
    "        'Lipid ID': 'ID',\n",
    "        'Name': 'NAME',\n",
    "        'Abbreviation*': 'ABBREVIATION',\n",
    "        'HMDB': 'HMDB_ID',\n",
    "        'CHEBI': 'CHEBI_ID'\n",
    "    }, inplace=True)\n",
    "\n",
    "    with mp.Pool(mp.cpu_count()) as pool:\n",
    "        swiss_lipids_db['GOSLIN_NAME'] = pool.map(convert_swiss_lipids_lipid_name, swiss_lipids_db[['NAME', 'ABBREVIATION']].itertuples(index=False, name=None))\n",
    "\n",
    "    return swiss_lipids_db"
   ]
  },
  {
   "cell_type": "code",
   "execution_count": null,
   "metadata": {},
   "outputs": [],
   "source": [
    "# download the lipids.tsv from swisslipids\n",
    "swswisslipids_db = parse_swiss_lipids_database(\"../data/swisslipids/lipids.tsv\")"
   ]
  },
  {
   "cell_type": "code",
   "execution_count": null,
   "metadata": {},
   "outputs": [],
   "source": [
    "swswisslipids_db.to_csv(\"../data/swisslipids/lipid_names_all.tsv\", sep='\\t', index=False)"
   ]
  }
 ],
 "metadata": {
  "kernelspec": {
   "display_name": ".venv",
   "language": "python",
   "name": "python3"
  },
  "language_info": {
   "codemirror_mode": {
    "name": "ipython",
    "version": 3
   },
   "file_extension": ".py",
   "mimetype": "text/x-python",
   "name": "python",
   "nbconvert_exporter": "python",
   "pygments_lexer": "ipython3",
   "version": "3.13.1"
  }
 },
 "nbformat": 4,
 "nbformat_minor": 2
}
