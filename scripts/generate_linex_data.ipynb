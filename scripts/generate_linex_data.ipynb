{
 "cells": [
  {
   "cell_type": "code",
   "execution_count": 6,
   "metadata": {},
   "outputs": [],
   "source": [
    "import bz2\n",
    "import pickle\n",
    "from typing import Any\n",
    "from importlib.metadata import version"
   ]
  },
  {
   "cell_type": "code",
   "execution_count": 4,
   "metadata": {},
   "outputs": [],
   "source": [
    "def _load_reactions() -> tuple[dict[str, Any], list[Any]]:\n",
    "    from linex2 import load_data\n",
    "    from linex2 import utils\n",
    "    from linex2 import make_all_reaction_list_from_reactome\n",
    "    from linex2 import make_all_reaction_list_from_rhea\n",
    "    from linex2 import parse_lipid_reference_table_dict\n",
    "\n",
    "    # First the reference lipid classes are generated.\n",
    "    # This is a dictionary with lipid classes as keys, and a \"Reference class\" reactionect as value\n",
    "    # We only have reactions available for lipids of these classes.\n",
    "    reference_lipids = parse_lipid_reference_table_dict(load_data.STANDARD_LIPID_CLASSES)\n",
    "\n",
    "    # Then we read the reactions we curated from the Rhea database\n",
    "    # and the reactions from the Reactome database\n",
    "    # (loading this takes a few seconds)\n",
    "    rhea_reactions = make_all_reaction_list_from_rhea(\n",
    "        load_data.RHEA_OTHERS_UNIQUE,\n",
    "        load_data.RHEA_REACTION_CURATION,\n",
    "        load_data.RHEA_REACTION_TO_MOLECULE,\n",
    "        reference_lipids,\n",
    "        load_data.RHEA_MAPPING,\n",
    "        verbose=False\n",
    "    )\n",
    "    reactome_reactions = make_all_reaction_list_from_reactome(\n",
    "        load_data.REACTOME_OTHERS_UNIQUE,\n",
    "        load_data.REACTOME_REACTION_CURATION,\n",
    "        load_data.REACTOME_REACTION_TO_MOLECULE,\n",
    "        reference_lipids,\n",
    "        load_data.REACTOME_REACTION_DETAILS,\n",
    "        verbose=False\n",
    "    )\n",
    "\n",
    "    # Then we combine both reaction lists\n",
    "    # This is the list (together with the reference lipids you will be working with)\n",
    "    combined_reactions = utils.combine_reactions(reactome_reactions[0], rhea_reactions[0])\n",
    "\n",
    "    return reference_lipids, combined_reactions\n"
   ]
  },
  {
   "cell_type": "code",
   "execution_count": 7,
   "metadata": {},
   "outputs": [],
   "source": [
    "current_linex_version = version(\"linex2\")\n",
    "reference_lipids, combined_reactions = _load_reactions()\n",
    "linex_data = (current_linex_version, reference_lipids, combined_reactions)"
   ]
  },
  {
   "cell_type": "code",
   "execution_count": 8,
   "metadata": {},
   "outputs": [],
   "source": [
    "with bz2.BZ2File('../data/linex/linex_data.pbz2', \"w\") as f:\n",
    "    pickle.dump(linex_data, f)"
   ]
  }
 ],
 "metadata": {
  "kernelspec": {
   "display_name": "venv",
   "language": "python",
   "name": "python3"
  },
  "language_info": {
   "codemirror_mode": {
    "name": "ipython",
    "version": 3
   },
   "file_extension": ".py",
   "mimetype": "text/x-python",
   "name": "python",
   "nbconvert_exporter": "python",
   "pygments_lexer": "ipython3",
   "version": "3.11.11"
  }
 },
 "nbformat": 4,
 "nbformat_minor": 2
}
