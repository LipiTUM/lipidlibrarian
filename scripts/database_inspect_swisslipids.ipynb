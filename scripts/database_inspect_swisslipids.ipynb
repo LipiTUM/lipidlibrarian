{
 "cells": [
  {
   "cell_type": "code",
   "execution_count": 1,
   "metadata": {},
   "outputs": [],
   "source": [
    "import pandas as pd"
   ]
  },
  {
   "cell_type": "code",
   "execution_count": 2,
   "metadata": {},
   "outputs": [
    {
     "name": "stderr",
     "output_type": "stream",
     "text": [
      "/tmp/ipykernel_150454/3562540870.py:1: DtypeWarning: Columns (4,6,24,25,26,27,28) have mixed types. Specify dtype option on import or set low_memory=False.\n",
      "  swisslipids_db = pd.read_csv(\"../data/swisslipids/lipid_names_all.tsv\", sep='\\t')\n"
     ]
    }
   ],
   "source": [
    "swisslipids_db = pd.read_csv(\"../data/swisslipids/lipid_names_all.tsv\", sep='\\t')\n",
    "swisslipids_db['CHEBI_ID'] = swisslipids_db['CHEBI_ID'].str.replace('.0','')"
   ]
  },
  {
   "cell_type": "code",
   "execution_count": null,
   "metadata": {},
   "outputs": [],
   "source": [
    "swisslipids_db[swisslipids_db['NAME'].notna() & swisslipids_db['GOSLIN_NAME'].notna()][['ID', 'Level', 'NAME', 'GOSLIN_NAME']].to_csv(\"../data/swisslipids/goslin_converted_names.tsv\", sep='\\t', index=False)"
   ]
  }
 ],
 "metadata": {
  "kernelspec": {
   "display_name": ".venv",
   "language": "python",
   "name": "python3"
  },
  "language_info": {
   "codemirror_mode": {
    "name": "ipython",
    "version": 3
   },
   "file_extension": ".py",
   "mimetype": "text/x-python",
   "name": "python",
   "nbconvert_exporter": "python",
   "pygments_lexer": "ipython3",
   "version": "3.13.2"
  }
 },
 "nbformat": 4,
 "nbformat_minor": 2
}
