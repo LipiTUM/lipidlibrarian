{
 "cells": [
  {
   "cell_type": "code",
   "execution_count": 3,
   "metadata": {},
   "outputs": [],
   "source": [
    "from pygoslin.parser.Parser import LipidParser\n",
    "parser = LipidParser()"
   ]
  },
  {
   "cell_type": "code",
   "execution_count": 25,
   "metadata": {},
   "outputs": [
    {
     "name": "stdout",
     "output_type": "stream",
     "text": [
      "{'name': 'FA1', 'position': 1, 'count': 1, 'stereochemistry': None, 'stereo_bound': False, 'ring_stereo': '', 'double_bonds': {9: 'Z'}, 'is_atomic': False, 'elements': {<Element.C: 0>: 18, <Element.C13: 1>: 0, <Element.H: 2>: 33, <Element.H2: 3>: 0, <Element.N: 4>: 0, <Element.N15: 5>: 0, <Element.O: 6>: 1, <Element.O17: 7>: 0, <Element.O18: 8>: 0, <Element.P: 9>: 0, <Element.P32: 10>: 0, <Element.S: 11>: 0, <Element.S34: 12>: 0, <Element.S33: 13>: 0, <Element.F: 14>: 0, <Element.Cl: 15>: 0, <Element.Br: 16>: 0, <Element.I: 17>: 0, <Element.As: 18>: 0}, 'functional_groups': {}, 'num_carbon': 18, 'lipid_FA_bond_type': <LipidFaBondType.ESTER: 6>, 'unresolved_hidden_fa': False}\n"
     ]
    }
   ],
   "source": [
    "lipid = parser.parse(\"SE 27:1/18:1(9Z)\")\n",
    "print(lipid.lipid.fa_list[0].__dict__)"
   ]
  },
  {
   "cell_type": "code",
   "execution_count": 22,
   "metadata": {},
   "outputs": [
    {
     "data": {
      "text/plain": [
       "18"
      ]
     },
     "execution_count": 22,
     "metadata": {},
     "output_type": "execute_result"
    }
   ],
   "source": [
    "lipid.lipid.fa_list[0].num_carbon"
   ]
  },
  {
   "cell_type": "code",
   "execution_count": 23,
   "metadata": {},
   "outputs": [
    {
     "data": {
      "text/plain": [
       "{9: 'Z'}"
      ]
     },
     "execution_count": 23,
     "metadata": {},
     "output_type": "execute_result"
    }
   ],
   "source": [
    "lipid.lipid.fa_list[0].double_bonds"
   ]
  },
  {
   "cell_type": "code",
   "execution_count": 24,
   "metadata": {},
   "outputs": [
    {
     "data": {
      "text/plain": [
       "1"
      ]
     },
     "execution_count": 24,
     "metadata": {},
     "output_type": "execute_result"
    }
   ],
   "source": [
    "lipid.lipid.fa_list[0].get_double_bonds()"
   ]
  },
  {
   "cell_type": "code",
   "execution_count": 26,
   "metadata": {},
   "outputs": [
    {
     "data": {
      "text/plain": [
       "{<Element.C: 0>: 0,\n",
       " <Element.C13: 1>: 0,\n",
       " <Element.H: 2>: 0,\n",
       " <Element.H2: 3>: 0,\n",
       " <Element.N: 4>: 0,\n",
       " <Element.N15: 5>: 0,\n",
       " <Element.O: 6>: 0,\n",
       " <Element.O17: 7>: 0,\n",
       " <Element.O18: 8>: 0,\n",
       " <Element.P: 9>: 0,\n",
       " <Element.P32: 10>: 0,\n",
       " <Element.S: 11>: 0,\n",
       " <Element.S34: 12>: 0,\n",
       " <Element.S33: 13>: 0,\n",
       " <Element.F: 14>: 0,\n",
       " <Element.Cl: 15>: 0,\n",
       " <Element.Br: 16>: 0,\n",
       " <Element.I: 17>: 0,\n",
       " <Element.As: 18>: 0}"
      ]
     },
     "execution_count": 26,
     "metadata": {},
     "output_type": "execute_result"
    }
   ],
   "source": [
    "lipid.lipid.fa_list[0].get_functional_group_elements()"
   ]
  }
 ],
 "metadata": {
  "kernelspec": {
   "display_name": "venv",
   "language": "python",
   "name": "python3"
  },
  "language_info": {
   "codemirror_mode": {
    "name": "ipython",
    "version": 3
   },
   "file_extension": ".py",
   "mimetype": "text/x-python",
   "name": "python",
   "nbconvert_exporter": "python",
   "pygments_lexer": "ipython3",
   "version": "3.11.11"
  }
 },
 "nbformat": 4,
 "nbformat_minor": 2
}
