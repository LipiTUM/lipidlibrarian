{
 "cells": [
  {
   "cell_type": "code",
   "execution_count": 2,
   "metadata": {},
   "outputs": [],
   "source": [
    "from pygoslin.parser.Parser import LipidParser\n",
    "from pygoslin.domain.LipidLevel import LipidLevel\n",
    "\n",
    "parser = LipidParser()"
   ]
  },
  {
   "cell_type": "code",
   "execution_count": 3,
   "metadata": {},
   "outputs": [
    {
     "name": "stdout",
     "output_type": "stream",
     "text": [
      "{'name': 'LCB', 'position': 1, 'count': 1, 'stereochemistry': None, 'stereo_bound': False, 'ring_stereo': '', 'double_bonds': 1, 'is_atomic': False, 'elements': {<Element.C: 0>: 18, <Element.C13: 1>: 0, <Element.H: 2>: 35, <Element.H2: 3>: 0, <Element.N: 4>: 1, <Element.N15: 5>: 0, <Element.O: 6>: 0, <Element.O17: 7>: 0, <Element.O18: 8>: 0, <Element.P: 9>: 0, <Element.P32: 10>: 0, <Element.S: 11>: 0, <Element.S34: 12>: 0, <Element.S33: 13>: 0, <Element.F: 14>: 0, <Element.Cl: 15>: 0, <Element.Br: 16>: 0, <Element.I: 17>: 0, <Element.As: 18>: 0}, 'functional_groups': {'OH': [<pygoslin.domain.FunctionalGroup.FunctionalGroup object at 0x7f0a74601950>]}, 'num_carbon': 18, 'lipid_FA_bond_type': <LipidFaBondType.LCB_EXCEPTION: 1>, 'unresolved_hidden_fa': False}\n"
     ]
    }
   ],
   "source": [
    "lipid = parser.parse(\"Cer 18:1/20:4\")\n",
    "print(lipid.lipid.fa_list[0].__dict__)"
   ]
  },
  {
   "cell_type": "code",
   "execution_count": 4,
   "metadata": {},
   "outputs": [
    {
     "data": {
      "text/plain": [
       "18"
      ]
     },
     "execution_count": 4,
     "metadata": {},
     "output_type": "execute_result"
    }
   ],
   "source": [
    "lipid.lipid.fa_list[0].num_carbon"
   ]
  },
  {
   "cell_type": "code",
   "execution_count": 5,
   "metadata": {},
   "outputs": [
    {
     "data": {
      "text/plain": [
       "1"
      ]
     },
     "execution_count": 5,
     "metadata": {},
     "output_type": "execute_result"
    }
   ],
   "source": [
    "lipid.lipid.fa_list[0].double_bonds"
   ]
  },
  {
   "cell_type": "code",
   "execution_count": 6,
   "metadata": {},
   "outputs": [
    {
     "data": {
      "text/plain": [
       "1"
      ]
     },
     "execution_count": 6,
     "metadata": {},
     "output_type": "execute_result"
    }
   ],
   "source": [
    "lipid.lipid.fa_list[0].get_double_bonds()"
   ]
  },
  {
   "cell_type": "code",
   "execution_count": 7,
   "metadata": {},
   "outputs": [
    {
     "data": {
      "text/plain": [
       "{<Element.C: 0>: 0,\n",
       " <Element.C13: 1>: 0,\n",
       " <Element.H: 2>: 0,\n",
       " <Element.H2: 3>: 0,\n",
       " <Element.N: 4>: 0,\n",
       " <Element.N15: 5>: 0,\n",
       " <Element.O: 6>: 2,\n",
       " <Element.O17: 7>: 0,\n",
       " <Element.O18: 8>: 0,\n",
       " <Element.P: 9>: 0,\n",
       " <Element.P32: 10>: 0,\n",
       " <Element.S: 11>: 0,\n",
       " <Element.S34: 12>: 0,\n",
       " <Element.S33: 13>: 0,\n",
       " <Element.F: 14>: 0,\n",
       " <Element.Cl: 15>: 0,\n",
       " <Element.Br: 16>: 0,\n",
       " <Element.I: 17>: 0,\n",
       " <Element.As: 18>: 0}"
      ]
     },
     "execution_count": 7,
     "metadata": {},
     "output_type": "execute_result"
    }
   ],
   "source": [
    "lipid.lipid.fa_list[0].get_functional_group_elements()"
   ]
  },
  {
   "cell_type": "code",
   "execution_count": 8,
   "metadata": {},
   "outputs": [
    {
     "data": {
      "text/plain": [
       "'LipidSnPosition'"
      ]
     },
     "execution_count": 8,
     "metadata": {},
     "output_type": "execute_result"
    }
   ],
   "source": [
    "type(lipid.lipid).__name__"
   ]
  }
 ],
 "metadata": {
  "kernelspec": {
   "display_name": "venv",
   "language": "python",
   "name": "python3"
  },
  "language_info": {
   "codemirror_mode": {
    "name": "ipython",
    "version": 3
   },
   "file_extension": ".py",
   "mimetype": "text/x-python",
   "name": "python",
   "nbconvert_exporter": "python",
   "pygments_lexer": "ipython3",
   "version": "3.11.13"
  }
 },
 "nbformat": 4,
 "nbformat_minor": 2
}
