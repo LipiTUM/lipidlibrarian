{
 "cells": [
  {
   "cell_type": "code",
   "execution_count": 2,
   "metadata": {},
   "outputs": [],
   "source": [
    "from lipidlibrarian.LipidQuery import LipidQuery\n",
    "from lipidlibrarian.lipid.Nomenclature import Level"
   ]
  },
  {
   "cell_type": "code",
   "execution_count": 3,
   "metadata": {},
   "outputs": [
    {
     "name": "stderr",
     "output_type": "stream",
     "text": [
      "/home/niedermaierfelix/workspace/lipitum/lipidlibrarian/venv/lib/python3.11/site-packages/linex2/parser.py:22: RuntimeWarning: Package 'lynx' (LipidLynxX) not available. Lipid name conversions will not be possible.\n",
      "  warnings.warn(\n",
      "WARNING:root:name and ontology keys are both missing\n",
      "ERROR:root:LipidLynxX: Initializing LipidLynxX failed. Disabling LipidLynxX support.\n"
     ]
    }
   ],
   "source": [
    "query_result = LipidQuery(\"PC(18:4/18:2)\").query()"
   ]
  },
  {
   "cell_type": "code",
   "execution_count": 6,
   "metadata": {},
   "outputs": [
    {
     "name": "stdout",
     "output_type": "stream",
     "text": [
      "Found lipid: PC 18:4/18:2; with level structural_lipid_species\n",
      "Found lipid: PC 18:4(9E,11E,13E,15E)/18:2(9Z,12Z); with level isomeric_lipid_species\n",
      "Found lipid: PC 18:4(6Z,9Z,12Z,15Z)/18:2(9Z,12Z); with level isomeric_lipid_species\n"
     ]
    }
   ],
   "source": [
    "for result in query_result:\n",
    "    print(f\"Found lipid: { result.nomenclature.name }; with level { Level(result.nomenclature.level).name }\")"
   ]
  },
  {
   "cell_type": "code",
   "execution_count": 14,
   "metadata": {},
   "outputs": [
    {
     "name": "stdout",
     "output_type": "stream",
     "text": [
      "Lipid PC 18:4/18:2 has mass 778.538147 with adduct +H+; source: swisslipids\n",
      "Lipid PC 18:4/18:2 has mass 816.494019 with adduct +[39]K+; source: swisslipids\n",
      "Lipid PC 18:4/18:2 has mass 800.520081 with adduct +Na+; source: swisslipids\n",
      "Lipid PC 18:4/18:2 has mass 784.546326 with adduct +[7]Li+; source: swisslipids\n",
      "Lipid PC 18:4/18:2 has mass 795.564697 with adduct +NH4+; source: swisslipids\n",
      "Lipid PC 18:4/18:2 has mass 812.500244 with adduct +[35]Cl-; source: swisslipids\n",
      "Lipid PC 18:4/18:2 has mass 836.544678 with adduct +CH3COO-; source: swisslipids\n"
     ]
    }
   ],
   "source": [
    "lipid_1 = query_result[0]\n",
    "\n",
    "for adduct in lipid_1.adducts:\n",
    "    for mass in adduct.masses:\n",
    "        for source in mass.sources:\n",
    "            print(f\"Lipid {lipid_1.nomenclature.name} has mass {mass} with adduct {adduct}; source: {source.source}\")"
   ]
  },
  {
   "cell_type": "code",
   "execution_count": 16,
   "metadata": {},
   "outputs": [
    {
     "name": "stdout",
     "output_type": "stream",
     "text": [
      "Lipid PC 18:4(9E,11E,13E,15E)/18:2(9Z,12Z) has smiles: [C@](COP(=O)([O-])OCC[N+](C)(C)C)([H])(OC(CCCCCCC/C=C\\C/C=C\\CCCCC)=O)COC(CCCCCCC/C=C/C=C/C=C/C=C/CC)=O; source: lipidmaps\n",
      "Lipid PC 18:4(9E,11E,13E,15E)/18:2(9Z,12Z) has smiles: [C@](COP(=O)([O-])OCC[N+](C)(C)C)([H])(OC(CCCCCCC/C=C\\C/C=C\\CCCCC)=O)COC(CCCCCCC/C=C/C=C/C=C/C=C/CC)=O; source: lipidlibrarian\n",
      "Lipid PC 18:4(9E,11E,13E,15E)/18:2(9Z,12Z) has inchi: InChI=1S/C44H76NO8P/c1-6-8-10-12-14-16-18-20-22-24-26-28-30-32-34-36-43(46)50-40-42(41-52-54(48,49)51-39-38-45(3,4)5)53-44(47)37-35-33-31-29-27-25-23-21-19-17-15-13-11-9-7-2/h8,10,12,14-18,20-23,42H,6-7,9,11,13,19,24-41H2,1-5H3/b10-8+,14-12+,17-15-,18-16+,22-20+,23-21-/t42-/m1/s1; source: lipidmaps\n",
      "Lipid PC 18:4(9E,11E,13E,15E)/18:2(9Z,12Z) has inchi: InChI=1S/C44H76NO8P/c1-6-8-10-12-14-16-18-20-22-24-26-28-30-32-34-36-43(46)50-40-42(41-52-54(48,49)51-39-38-45(3,4)5)53-44(47)37-35-33-31-29-27-25-23-21-19-17-15-13-11-9-7-2/h8,10,12,14-18,20-23,42H,6-7,9,11,13,19,24-41H2,1-5H3/b10-8+,14-12+,17-15-,18-16+,22-20+,23-21-/t42-/m1/s1; source: lipidlibrarian\n",
      "Lipid PC 18:4(9E,11E,13E,15E)/18:2(9Z,12Z) has inchikey: XVMWYTOSFLHZFR-VCEVEUEWSA-N; source: lipidmaps\n",
      "Lipid PC 18:4(9E,11E,13E,15E)/18:2(9Z,12Z) has inchikey: XVMWYTOSFLHZFR-VCEVEUEWSA-N; source: lipidlibrarian\n"
     ]
    }
   ],
   "source": [
    "lipid_2 = query_result[1]\n",
    "\n",
    "for structural_identifier in lipid_2.nomenclature.structure_identifiers:\n",
    "    for source in structural_identifier.sources:\n",
    "        print(f\"Lipid {lipid_2.nomenclature.name} has {structural_identifier.structure_type}: {structural_identifier.value}; source: {source.source}\")"
   ]
  }
 ],
 "metadata": {
  "kernelspec": {
   "display_name": "venv",
   "language": "python",
   "name": "python3"
  },
  "language_info": {
   "codemirror_mode": {
    "name": "ipython",
    "version": 3
   },
   "file_extension": ".py",
   "mimetype": "text/x-python",
   "name": "python",
   "nbconvert_exporter": "python",
   "pygments_lexer": "ipython3",
   "version": "3.11.7"
  }
 },
 "nbformat": 4,
 "nbformat_minor": 2
}
