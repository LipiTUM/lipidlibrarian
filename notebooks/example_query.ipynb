{
 "cells": [
  {
   "cell_type": "code",
   "execution_count": 3,
   "metadata": {},
   "outputs": [],
   "source": [
    "from lipidlibrarian.LipidQuery import LipidQuery\n",
    "from lipidlibrarian.lipid.Nomenclature import Level"
   ]
  },
  {
   "cell_type": "code",
   "execution_count": 4,
   "metadata": {},
   "outputs": [
    {
     "name": "stderr",
     "output_type": "stream",
     "text": [
      "INFO:app_log:LipidLynxX Log started ...\n",
      "WARNING:root:name and ontology keys are both missing\n"
     ]
    }
   ],
   "source": [
    "query_result = LipidQuery(\"PC(18:1/20:0)\").query()"
   ]
  },
  {
   "cell_type": "code",
   "execution_count": 5,
   "metadata": {},
   "outputs": [
    {
     "name": "stdout",
     "output_type": "stream",
     "text": [
      "Found lipid: PC 18:1/20:0; with level structural_lipid_species\n",
      "Found lipid: PC 18:1(9Z)/20:0; with level isomeric_lipid_species\n",
      "Found lipid: PC 18:1(9E)/20:0; with level isomeric_lipid_species\n"
     ]
    }
   ],
   "source": [
    "for result in query_result:\n",
    "    print(f\"Found lipid: { result.nomenclature.name }; with level { Level(result.nomenclature.level).name }\")"
   ]
  },
  {
   "cell_type": "code",
   "execution_count": 6,
   "metadata": {},
   "outputs": [
    {
     "name": "stdout",
     "output_type": "stream",
     "text": [
      "Lipid PC 18:1/20:0 has mass 816.647705 with adduct +H+; source: swisslipids\n",
      "Lipid PC 18:1/20:0 has mass 854.603577 with adduct +[39]K+; source: swisslipids\n",
      "Lipid PC 18:1/20:0 has mass 838.629639 with adduct +Na+; source: swisslipids\n",
      "Lipid PC 18:1/20:0 has mass 822.655884 with adduct +[7]Li+; source: swisslipids\n",
      "Lipid PC 18:1/20:0 has mass 833.674255 with adduct +NH4+; source: swisslipids\n",
      "Lipid PC 18:1/20:0 has mass 850.609802 with adduct +[35]Cl-; source: swisslipids\n",
      "Lipid PC 18:1/20:0 has mass 874.654236 with adduct +CH3COO-; source: swisslipids\n"
     ]
    }
   ],
   "source": [
    "lipid_1 = query_result[0]\n",
    "\n",
    "for adduct in lipid_1.adducts:\n",
    "    for mass in adduct.masses:\n",
    "        for source in mass.sources:\n",
    "            print(f\"Lipid {lipid_1.nomenclature.name} has mass {mass} with adduct {adduct}; source: {source.source}\")"
   ]
  },
  {
   "cell_type": "code",
   "execution_count": 7,
   "metadata": {},
   "outputs": [
    {
     "name": "stdout",
     "output_type": "stream",
     "text": [
      "Lipid PC 18:1(9Z)/20:0 has smiles: [C@](COP(=O)([O-])OCC[N+](C)(C)C)([H])(OC(CCCCCCCCCCCCCCCCCCC)=O)COC(CCCCCCC/C=C\\CCCCCCCC)=O; source: lipidmaps\n",
      "Lipid PC 18:1(9Z)/20:0 has inchi: InChI=1S/C46H90NO8P/c1-6-8-10-12-14-16-18-20-22-23-25-27-29-31-33-35-37-39-46(49)55-44(43-54-56(50,51)53-41-40-47(3,4)5)42-52-45(48)38-36-34-32-30-28-26-24-21-19-17-15-13-11-9-7-2/h21,24,44H,6-20,22-23,25-43H2,1-5H3/b24-21-/t44-/m1/s1; source: lipidmaps\n",
      "Lipid PC 18:1(9Z)/20:0 has inchikey: MXRBMASUAJMEIJ-FHLWKLDVSA-N; source: lipidmaps\n"
     ]
    }
   ],
   "source": [
    "lipid_2 = query_result[1]\n",
    "\n",
    "for structural_identifier in lipid_2.nomenclature.structure_identifiers:\n",
    "    for source in structural_identifier.sources:\n",
    "        print(f\"Lipid {lipid_2.nomenclature.name} has {structural_identifier.structure_type}: {structural_identifier.value}; source: {source.source}\")"
   ]
  }
 ],
 "metadata": {
  "kernelspec": {
   "display_name": "venv",
   "language": "python",
   "name": "python3"
  },
  "language_info": {
   "codemirror_mode": {
    "name": "ipython",
    "version": 3
   },
   "file_extension": ".py",
   "mimetype": "text/x-python",
   "name": "python",
   "nbconvert_exporter": "python",
   "pygments_lexer": "ipython3",
   "version": "3.11.13"
  }
 },
 "nbformat": 4,
 "nbformat_minor": 2
}
